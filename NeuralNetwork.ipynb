{
 "cells": [
  {
   "cell_type": "markdown",
   "id": "5e16b30c",
   "metadata": {},
   "source": [
    "# Multilayer Perceptron Implementation<center>"
   ]
  },
  {
   "cell_type": "code",
   "execution_count": 2,
   "id": "2c9492c3",
   "metadata": {},
   "outputs": [],
   "source": [
    "#Libraries\n",
    "import numpy as np\n",
    "import random\n",
    "import tensorflow as tf\n",
    "from tensorflow.keras.datasets import mnist"
   ]
  },
  {
   "cell_type": "markdown",
   "id": "580e38a5",
   "metadata": {},
   "source": [
    "## Class Network"
   ]
  },
  {
   "cell_type": "code",
   "execution_count": 3,
   "id": "4b3fa4b6",
   "metadata": {},
   "outputs": [],
   "source": [
    "class Network:\n",
    "    \"\"\"\n",
    "    Given sizes,the size of each layer, initialise the weigths\n",
    "    and biases randomly\n",
    "    \"\"\"\n",
    "    def __init__(self,sizes):\n",
    "        self.num_layers = len(sizes)\n",
    "        self.sizes = sizes\n",
    "        self.biases = [np.random.randn(y,1) for y in sizes[1:]] #for a network with n layer, we have n-1 bias vector\n",
    "        self.weights = [np.random.randn(y,x) for x,y in zip(sizes[:-1],sizes[1:])]\n",
    "        \n",
    "    @staticmethod\n",
    "    def sigmoid(z):\n",
    "        return 1.0/(1.0+np.exp(-z))\n",
    "    \n",
    "    @staticmethod\n",
    "    def sigmoid_prim(z):\n",
    "        return Network.sigmoid(z)*(1-Network.sigmoid(z))\n",
    "    \n",
    "    def feedforward(self,a):\n",
    "        \"\"\"\n",
    "        Return the output of the network with input \"a\"\n",
    "        \"\"\"\n",
    "        for b,w in zip(self.biases,self.weights):\n",
    "            a=Network.sigmoid(np.dot(w,a)+b.flatten())\n",
    "            \n",
    "        return a\n",
    "    \n",
    "    def SGD(self, training_data, epochs, mini_batch_size, eta, test_data=None):\n",
    "        \"\"\"\n",
    "        Train the neural network using mini-batch stochastic \n",
    "        gradient descent. The \"training_data\" is a list of \n",
    "        tuples \"(x, y)\" representing the training inputs and\n",
    "        the desired outputs. The other non-optional parameters\n",
    "        are selfexplanatory. If \"test_data\" is provided then\n",
    "        the network will be evaluated against the test data\n",
    "        after each epoch, and partial progress printed out.\n",
    "        This is useful for tracking progress, but slows things\n",
    "        down substantially.\n",
    "        \n",
    "        Inputs :\n",
    "            epochs : Number of epochs to use\n",
    "            eta    : Learning rate\n",
    "                        \n",
    "        \"\"\"\n",
    "        #Size of trainig_data\n",
    "        n = len(training_data)\n",
    "        n_test = len(test_data)\n",
    "        \n",
    "        #iterate over epochs\n",
    "        for j in range(epochs):\n",
    "            random.shuffle(training_data)\n",
    "            \n",
    "            #Create mini batches for the SGD\n",
    "            mini_batches = [training_data[k:k+mini_batch_size] for k in range(0,n,mini_batch_size)]\n",
    "            \n",
    "            #iterate using the mini-batchs\n",
    "            for mini_batch in mini_batches:\n",
    "                self.update_mini_batch(mini_batch,eta)\n",
    "                \n",
    "            print(\"Epoch {0}:{1}/{2}\".format(j, self.evaluate(test_data), n_test))\n",
    "    \n",
    "\n",
    "    def backprop(self,x,y):\n",
    "        \"\"\"\n",
    "        Return a tuple \"(nabla_b, nabla_w)\" representing the gradient \n",
    "        for the cost function C_x. \"nabla_b\" and \"nabla_w\" are \n",
    "        layer-by-layer lists of numpy arrays, similar to \"self.biases\" \n",
    "        and \"self.weights\".\n",
    "        \"\"\"\n",
    "\n",
    "        nabla_b = [np.zeros(b.shape) for b in self.biases]\n",
    "        nabla_w = [np.zeros(w.shape) for w in self.weights]\n",
    "\n",
    "        #feedforward\n",
    "        activation = x\n",
    "        activations = [x]\n",
    "        zs=[]\n",
    "\n",
    "        for b,w in zip(self.biases,self.weights):\n",
    "            z = np.dot(w,activation)+b.flatten()\n",
    "            zs.append(z)\n",
    "            activation=self.sigmoid(z)\n",
    "            activations.append(activation)\n",
    "\n",
    "        #backward pass\n",
    "        error = np.multiply((activations[-1]-y),self.sigmoid_prim(zs[-1]))\n",
    "        nabla_b[-1]=error.reshape((-1,1))\n",
    "        nabla_w[-1]=np.dot(error.reshape((-1,1)),activations[-2].reshape((1,-1)))\n",
    "\n",
    "        for l in range(self.num_layers-3,-1,-1):\n",
    "            error = np.multiply(np.dot(self.weights[l+1].T,error),self.sigmoid_prim(zs[l]))\n",
    "            nabla_b[l] = error.reshape((-1,1))\n",
    "            nabla_w[l] = np.dot(error.reshape((-1,1)),activations[l].reshape((1,-1)))\n",
    "        \n",
    "        return nabla_b,nabla_w\n",
    "    \n",
    "    \n",
    "    def update_mini_batch(self,mini_batch,eta):\n",
    "        \"\"\"\n",
    "        Update the network’s weights and biases by applying\n",
    "        gradient descent using backpropagation to a single \n",
    "        mini batch. The \"mini_batch\" is a list of tuples \n",
    "        \"(x, y)\", and \"eta\" is the learning rate.\n",
    "        \"\"\"\n",
    "        nabla_b = [np.zeros(b.shape) for b in self.biases]\n",
    "        nabla_w = [np.zeros(w.shape) for w in self.weights]\n",
    "        \n",
    "        for x,y in mini_batch:\n",
    "            m = len(mini_batch)\n",
    "            \n",
    "            delta_nabla_b,delta_nabla_w = self.backprop(x, y)\n",
    "            nabla_b = [nb+dnb for nb,dnb in zip(nabla_b, delta_nabla_b)]\n",
    "            nabla_w = [nw+dnw for nw,dnw in zip(nabla_w, delta_nabla_w)]\n",
    "        \n",
    "            \n",
    "        self.weights = [w-(eta/m)*nw for w,nw in zip(self.weights,nabla_w)]            \n",
    "        self.biases = [b-(eta/m)*nb for b,nb in zip(self.biases, nabla_b)]\n",
    "                   \n",
    "            \n",
    "    def evaluate(self, test_data):\n",
    "        \"\"\"\n",
    "        Return the number of test inputs for which the neural\n",
    "        network outputs the correct result. Note that the \n",
    "        neural network’s output is assumed to be the index of \n",
    "        whichever neuron in the final layer has the highest \n",
    "        activation.\n",
    "        \"\"\"\n",
    "        test_results = [(np.argmax(self.feedforward(x)), y) for x, y in test_data] \n",
    "        return sum(int(x == y) for (x, y) in test_results)\n",
    "            \n",
    "                \n",
    "            "
   ]
  },
  {
   "cell_type": "markdown",
   "id": "a8dcb194",
   "metadata": {},
   "source": [
    "# Test on MNIST data Set"
   ]
  },
  {
   "cell_type": "code",
   "execution_count": 4,
   "id": "c7a444e2",
   "metadata": {},
   "outputs": [
    {
     "name": "stdout",
     "output_type": "stream",
     "text": [
      "Training data shape: (60000, 28, 28)\n",
      "Training labels shape: (60000,)\n",
      "Test data shape: (10000, 28, 28)\n",
      "Test labels shape: (10000,)\n"
     ]
    }
   ],
   "source": [
    "# Load MNIST dataset\n",
    "(x_train, y_train), (x_test, y_test) = mnist.load_data()\n",
    "\n",
    "# Display some information about the dataset\n",
    "print(\"Training data shape:\", x_train.shape)\n",
    "print(\"Training labels shape:\", y_train.shape)\n",
    "print(\"Test data shape:\", x_test.shape)\n",
    "print(\"Test labels shape:\", y_test.shape)\n",
    "\n",
    "# Optionally, you can normalize the pixel values to be in the range [0, 1]\n",
    "x_train, x_test = x_train / 255.0, x_test / 255.0\n"
   ]
  },
  {
   "cell_type": "code",
   "execution_count": 5,
   "id": "1f77b5f0",
   "metadata": {},
   "outputs": [],
   "source": [
    "#Fllaten the data set\n",
    "def vectorise_y(y):\n",
    "    e=np.zeros(10)\n",
    "    e[y]=1\n",
    "    return e\n",
    "\n",
    "training_data = [(x_train[i].flatten(),y_train[i]) for i in range(60000)]\n",
    "test_data = [(x_test[i].flatten(),y_test[i]) for i in range(10000)]"
   ]
  },
  {
   "cell_type": "code",
   "execution_count": 6,
   "id": "43388dd5",
   "metadata": {},
   "outputs": [],
   "source": [
    "#Create a network\n",
    "net = Network([784,128,128,10])"
   ]
  },
  {
   "cell_type": "code",
   "execution_count": 7,
   "id": "53c046ee",
   "metadata": {},
   "outputs": [
    {
     "name": "stdout",
     "output_type": "stream",
    }
   ],
   "source": [
    "net.SGD(training_data,10,32,1,test_data)"
   ]
  },
  {
   "cell_type": "markdown",
   "id": "4e79f19e",
   "metadata": {},
   "source": [
    "### Loss"
   ]
  },
  {
   "cell_type": "code",
   "execution_count": 8,
   "id": "891c85cb",
   "metadata": {},
   "outputs": [
    {
     "data": {
      "text/plain": [
       "809"
      ]
     },
     "execution_count": 8,
     "metadata": {},
     "output_type": "execute_result"
    }
   ],
   "source": [
    "net.evaluate(test_data)"
   ]
  },
  {
   "cell_type": "markdown",
   "id": "8364430d",
   "metadata": {},
   "source": [
    "## Using our network"
   ]
  },
  {
   "cell_type": "code",
   "execution_count": 9,
   "id": "36f50ec9",
   "metadata": {},
   "outputs": [
    {
     "data": {
      "application/vnd.jupyter.widget-view+json": {
       "model_id": "ca02e6586f4d456384fc92ed56dd1e70",
       "version_major": 2,
       "version_minor": 0
      },
      "text/plain": [
       "FileUpload(value=(), accept='.png', description='Upload')"
      ]
     },
     "metadata": {},
     "output_type": "display_data"
    }
   ],
   "source": [
    "from IPython.display import display\n",
    "import ipywidgets as widgets\n",
    "import numpy as np\n",
    "from PIL import Image\n",
    "from io import BytesIO\n",
    "\n",
    "# Create a file upload widget\n",
    "upload = widgets.FileUpload(accept=\".png\", multiple=False)\n",
    "\n",
    "# Display the upload widget\n",
    "display(upload)"
   ]
  },
  {
   "cell_type": "code",
   "execution_count": 10,
   "id": "41d461fa",
   "metadata": {},
   "outputs": [
    {
     "ename": "IndexError",
     "evalue": "tuple index out of range",
     "output_type": "error",
     "traceback": [
      "\u001b[1;31m---------------------------------------------------------------------------\u001b[0m",
      "\u001b[1;31mIndexError\u001b[0m                                Traceback (most recent call last)",
      "Cell \u001b[1;32mIn [10], line 2\u001b[0m\n\u001b[0;32m      1\u001b[0m \u001b[38;5;66;03m# Get the uploaded file content\u001b[39;00m\n\u001b[1;32m----> 2\u001b[0m content \u001b[38;5;241m=\u001b[39m \u001b[43mupload\u001b[49m\u001b[38;5;241;43m.\u001b[39;49m\u001b[43mvalue\u001b[49m\u001b[43m[\u001b[49m\u001b[38;5;241;43m0\u001b[39;49m\u001b[43m]\u001b[49m[\u001b[38;5;124m'\u001b[39m\u001b[38;5;124mcontent\u001b[39m\u001b[38;5;124m'\u001b[39m]\n\u001b[0;32m      4\u001b[0m \u001b[38;5;66;03m# Con!vert the content to a NumPy array\u001b[39;00m\n\u001b[0;32m      5\u001b[0m image \u001b[38;5;241m=\u001b[39m Image\u001b[38;5;241m.\u001b[39mopen(BytesIO(content))\n",
      "\u001b[1;31mIndexError\u001b[0m: tuple index out of range"
     ]
    }
   ],
   "source": [
    "# Get the uploaded file content\n",
    "content = upload.value[0]['content']\n",
    "\n",
    "# Con!vert the content to a NumPy array\n",
    "image = Image.open(BytesIO(content))\n",
    "\n",
    " # Convert the image to grayscale\n",
    "image_gray = image.convert('L')\n",
    "\n",
    "image_array = 255-np.array(image_gray)\n"
   ]
  },
  {
   "cell_type": "code",
   "execution_count": null,
   "id": "15d78b5e",
   "metadata": {},
   "outputs": [],
   "source": [
    "np.argmax(net.feedforward(image_array.flatten()))"
   ]
  },
  {
   "cell_type": "code",
   "execution_count": null,
   "id": "8e42228e",
   "metadata": {},
   "outputs": [],
   "source": []
  }
 ],
 "metadata": {
  "kernelspec": {
   "display_name": "Python 3 (ipykernel)",
   "language": "python",
   "name": "python3"
  },
  "language_info": {
   "codemirror_mode": {
    "name": "ipython",
    "version": 3
   },
   "file_extension": ".py",
   "mimetype": "text/x-python",
   "name": "python",
   "nbconvert_exporter": "python",
   "pygments_lexer": "ipython3",
   "version": "3.10.7"
  }
 },
 "nbformat": 4,
 "nbformat_minor": 5
}
